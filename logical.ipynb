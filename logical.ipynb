{
 "cells": [
  {
   "cell_type": "markdown",
   "metadata": {},
   "source": [
    "## Process\n",
    "\n",
    "The process layer consists of a self attention unit, a feedback unit, and a feedforward unit, per the standard design. "
   ]
  },
  {
   "cell_type": "code",
   "execution_count": null,
   "metadata": {},
   "outputs": [],
   "source": [
    "class "
   ]
  },
  {
   "cell_type": "markdown",
   "metadata": {
    "collapsed": true,
    "pycharm": {
     "name": "#%% md\n"
    }
   },
   "source": [
    "## Subordinate\n",
    "\n",
    "A subordinates job consists of three primary items:\n",
    "\n",
    "* 1: A subordinate should accept a compression stream and any of it's cached feedback then utilize this to compress the stream.\n",
    "* 2: A subordinate should accept an expansion stream and any cached feedback and use this to generate compression feedback and an lower level command stream\n",
    "* 3: Purge it's cache as instances finish evaluating\n",
    "\n",
    "It should also be noted that:\n",
    "\n",
    "* Subordinates contain two heads. The fetch head and internal heads. It is important to note that parameters for the global head should be independent"
   ]
  },
  {
   "cell_type": "code",
   "execution_count": 9,
   "metadata": {
    "pycharm": {
     "name": "#%%\n"
    }
   },
   "outputs": [],
   "source": [
    "\n",
    "class Subordinate():\n",
    "\n",
    "    \"\"\" The subordinate.\n",
    "    \n",
    "    The subordinate layer is in charge of creating the subordinate connection allowing \n",
    "    global priority to occur. \n",
    "    \n",
    "    It connects to superior layers by splitting up the process of escalation into a functional part, and a \n",
    "    evaluation part, and ensuring that the superior for the subordinate is known before evaluation.\n",
    "    \n",
    "    Meanwhile, the evaluation component is taken care of by utilizing a blockview with a MaxStitch transformer, and then\n",
    "    a feedback transformer to handle the results. \n",
    "\n",
    "def __call\n",
    "def factory(superior):\n",
    "    lambda \n",
    "    \n",
    "    \n",
    "When evaluating\n",
    "\n",
    "factory3(final) - > \n",
    "\n",
    "def factory()\n",
    "#Create constructor. When executed, results in item which can be fed prior layers result.\n",
    "\n",
    "def cosntru\n",
    "\n",
    "...\n",
    "\n",
    "\n",
    "    \"\"\"\n",
    "\n",
    "    def __init__(self, channel_width, encoding_length):\n",
    "        self.width = channel_width\n",
    "        self.cache_depth = encoding_length\n",
    "    def factory(self, superior):\n",
    "        \"\"\"\n",
    "        Create something which will, when executed with the superior layer, will return something which can be \n",
    "        fed the proper input and subsequently executed.\n",
    "        \n",
    "        \"\"\"\n",
    "        def factory(x):\n",
    "            return self.forward(x, superior)\n",
    "            \n",
    "        \n",
    "    \n",
    "    def evaluate(self, x, superior):\n",
    "        \"\"\"\n",
    "        \n",
    "        Evaluates the subordinate actions, using the incoming tensor and the given superior. Ensure \n",
    "        \n",
    "        \"\"\"\n",
    "    \n",
    "        \n",
    "        \n",
    "    \n",
    "            \n",
    "            \n",
    "        \n",
    "\n",
    "    "
   ]
  },
  {
   "cell_type": "markdown",
   "metadata": {},
   "source": [
    "## Preprocessing\n",
    "\n",
    "The preprocessing structure is meant to perform tasks such as embedding, padding to an appropriate width, and such for the model.\n",
    "\n",
    "* The preprocessing layer should embed, pad, and block transform the input.\n",
    "* It is responsible for caching inputs for however wide the output might be.\n"
   ]
  },
  {
   "cell_type": "markdown",
   "metadata": {},
   "source": [
    "## Executive\n",
    "\n",
    "The executive sits at the top of the chain of command, and is responsible for making decisions, summarizing the situation, and issuing orders. The executive contains a cache of it's own internal history, and is where destination information will ultimately be recorded and read from. Importantly, the executive also has the responsibility of taking in the escalated summary, storing and managing it, then providing directive feedbacks to the subordinates. It is also where the fetch head is generated\n",
    "\n",
    "* The Executive is responsible for collapsing the fetch layer. It also is responsible for generating the next command encodings, including the fetch commands."
   ]
  }
 ],
 "metadata": {
  "kernelspec": {
   "display_name": "Python 3 (ipykernel)",
   "language": "python",
   "name": "python3"
  },
  "language_info": {
   "codemirror_mode": {
    "name": "ipython",
    "version": 3
   },
   "file_extension": ".py",
   "mimetype": "text/x-python",
   "name": "python",
   "nbconvert_exporter": "python",
   "pygments_lexer": "ipython3",
   "version": "3.9.5"
  }
 },
 "nbformat": 4,
 "nbformat_minor": 1
}